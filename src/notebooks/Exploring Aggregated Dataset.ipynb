{
 "cells": [
  {
   "cell_type": "markdown",
   "metadata": {},
   "source": [
    "# Exploring Aggregated Dataset"
   ]
  },
  {
   "cell_type": "code",
   "execution_count": 1,
   "metadata": {},
   "outputs": [],
   "source": [
    "import pandas as pd\n",
    "import numpy as np\n",
    "import matplotlib.pyplot as plt\n",
    "\n",
    "%matplotlib inline"
   ]
  },
  {
   "cell_type": "code",
   "execution_count": 2,
   "metadata": {},
   "outputs": [],
   "source": [
    "from pyspark import SparkContext\n",
    "from pyspark.sql import SQLContext"
   ]
  },
  {
   "cell_type": "code",
   "execution_count": 10,
   "metadata": {},
   "outputs": [],
   "source": [
    "from pyspark.sql import functions as F"
   ]
  },
  {
   "cell_type": "code",
   "execution_count": 3,
   "metadata": {},
   "outputs": [],
   "source": [
    "sc = SparkContext(\"local\", \"Exploring Aggregated Dataset\")\n",
    "sql = SQLContext(sc)"
   ]
  },
  {
   "cell_type": "code",
   "execution_count": 4,
   "metadata": {},
   "outputs": [],
   "source": [
    "df = sql.read.format(\"com.databricks.spark.csv\") \\\n",
    "    .option(\"header\", \"true\") \\\n",
    "    .option(\"inferschema\", \"true\") \\\n",
    "    .load(\"/hdfs/salespred/output/sales_aggregated.csv\") "
   ]
  },
  {
   "cell_type": "code",
   "execution_count": 7,
   "metadata": {},
   "outputs": [
    {
     "data": {
      "text/plain": [
       "['date_block_num',\n",
       " 'shop_id',\n",
       " 'item_id',\n",
       " 'shop_name',\n",
       " 'item_name',\n",
       " 'item_category_name',\n",
       " 'min_date',\n",
       " 'max_date',\n",
       " 'avg_item_price',\n",
       " 'item_cnt_month']"
      ]
     },
     "execution_count": 7,
     "metadata": {},
     "output_type": "execute_result"
    }
   ],
   "source": [
    "df.columns"
   ]
  },
  {
   "cell_type": "code",
   "execution_count": 8,
   "metadata": {},
   "outputs": [
    {
     "name": "stdout",
     "output_type": "stream",
     "text": [
      "+-------+------------------+-----------------+\n",
      "|summary|    avg_item_price|   item_cnt_month|\n",
      "+-------+------------------+-----------------+\n",
      "|  count|           1608226|          1608226|\n",
      "|   mean|  790.150969784679|2.273155016770031|\n",
      "| stddev|1549.3096580545455|8.653235659574346|\n",
      "|    min|              0.09|              1.0|\n",
      "|    25%|             199.0|              1.0|\n",
      "|    50%|             399.0|              1.0|\n",
      "|    75%| 894.7766666666666|              2.0|\n",
      "|    max|          307980.0|           2253.0|\n",
      "+-------+------------------+-----------------+\n",
      "\n"
     ]
    }
   ],
   "source": [
    "df.select(['avg_item_price', 'item_cnt_month']).summary().show()"
   ]
  },
  {
   "cell_type": "markdown",
   "metadata": {},
   "source": [
    "## Exploring Date Blocks Num"
   ]
  },
  {
   "cell_type": "code",
   "execution_count": 73,
   "metadata": {},
   "outputs": [
    {
     "data": {
      "text/html": [
       "<div>\n",
       "<style scoped>\n",
       "    .dataframe tbody tr th:only-of-type {\n",
       "        vertical-align: middle;\n",
       "    }\n",
       "\n",
       "    .dataframe tbody tr th {\n",
       "        vertical-align: top;\n",
       "    }\n",
       "\n",
       "    .dataframe thead th {\n",
       "        text-align: right;\n",
       "    }\n",
       "</style>\n",
       "<table border=\"1\" class=\"dataframe\">\n",
       "  <thead>\n",
       "    <tr style=\"text-align: right;\">\n",
       "      <th></th>\n",
       "      <th>date_block_num</th>\n",
       "      <th>date</th>\n",
       "      <th>total_value</th>\n",
       "      <th>total_items</th>\n",
       "    </tr>\n",
       "  </thead>\n",
       "  <tbody>\n",
       "    <tr>\n",
       "      <th>0</th>\n",
       "      <td>31</td>\n",
       "      <td>2015-08-15</td>\n",
       "      <td>3.097896e+07</td>\n",
       "      <td>66196.0</td>\n",
       "    </tr>\n",
       "    <tr>\n",
       "      <th>1</th>\n",
       "      <td>28</td>\n",
       "      <td>2015-05-08</td>\n",
       "      <td>3.153760e+07</td>\n",
       "      <td>72435.0</td>\n",
       "    </tr>\n",
       "    <tr>\n",
       "      <th>2</th>\n",
       "      <td>27</td>\n",
       "      <td>2015-04-05</td>\n",
       "      <td>3.232694e+07</td>\n",
       "      <td>77948.0</td>\n",
       "    </tr>\n",
       "    <tr>\n",
       "      <th>3</th>\n",
       "      <td>26</td>\n",
       "      <td>2015-03-07</td>\n",
       "      <td>3.859296e+07</td>\n",
       "      <td>82233.0</td>\n",
       "    </tr>\n",
       "    <tr>\n",
       "      <th>4</th>\n",
       "      <td>12</td>\n",
       "      <td>2014-01-07</td>\n",
       "      <td>3.833654e+07</td>\n",
       "      <td>117243.0</td>\n",
       "    </tr>\n",
       "  </tbody>\n",
       "</table>\n",
       "</div>"
      ],
      "text/plain": [
       "   date_block_num       date   total_value  total_items\n",
       "0              31 2015-08-15  3.097896e+07      66196.0\n",
       "1              28 2015-05-08  3.153760e+07      72435.0\n",
       "2              27 2015-04-05  3.232694e+07      77948.0\n",
       "3              26 2015-03-07  3.859296e+07      82233.0\n",
       "4              12 2014-01-07  3.833654e+07     117243.0"
      ]
     },
     "execution_count": 73,
     "metadata": {},
     "output_type": "execute_result"
    }
   ],
   "source": [
    "block_sales = df.groupby([\"date_block_num\"]).agg(\n",
    "    F.first(\"max_date\").alias(\"date\"),\n",
    "    F.sum(\"avg_item_price\").alias(\"total_value\"),\n",
    "    F.sum(\"item_cnt_month\").alias(\"total_items\")\n",
    ")\n",
    "block_sales = block_sales.toPandas()\n",
    "block_sales.head()"
   ]
  },
  {
   "cell_type": "code",
   "execution_count": 74,
   "metadata": {},
   "outputs": [
    {
     "data": {
      "text/html": [
       "<div>\n",
       "<style scoped>\n",
       "    .dataframe tbody tr th:only-of-type {\n",
       "        vertical-align: middle;\n",
       "    }\n",
       "\n",
       "    .dataframe tbody tr th {\n",
       "        vertical-align: top;\n",
       "    }\n",
       "\n",
       "    .dataframe thead th {\n",
       "        text-align: right;\n",
       "    }\n",
       "</style>\n",
       "<table border=\"1\" class=\"dataframe\">\n",
       "  <thead>\n",
       "    <tr style=\"text-align: right;\">\n",
       "      <th></th>\n",
       "      <th>date_block_num</th>\n",
       "      <th>date</th>\n",
       "      <th>total_value</th>\n",
       "      <th>total_items</th>\n",
       "    </tr>\n",
       "  </thead>\n",
       "  <tbody>\n",
       "    <tr>\n",
       "      <th>32</th>\n",
       "      <td>0</td>\n",
       "      <td>2013-01-25</td>\n",
       "      <td>4.112294e+07</td>\n",
       "      <td>131850.0</td>\n",
       "    </tr>\n",
       "    <tr>\n",
       "      <th>6</th>\n",
       "      <td>1</td>\n",
       "      <td>2013-02-13</td>\n",
       "      <td>3.810089e+07</td>\n",
       "      <td>128382.0</td>\n",
       "    </tr>\n",
       "    <tr>\n",
       "      <th>30</th>\n",
       "      <td>2</td>\n",
       "      <td>2013-03-17</td>\n",
       "      <td>4.116525e+07</td>\n",
       "      <td>147438.0</td>\n",
       "    </tr>\n",
       "    <tr>\n",
       "      <th>10</th>\n",
       "      <td>3</td>\n",
       "      <td>2013-04-14</td>\n",
       "      <td>3.449906e+07</td>\n",
       "      <td>107439.0</td>\n",
       "    </tr>\n",
       "    <tr>\n",
       "      <th>17</th>\n",
       "      <td>4</td>\n",
       "      <td>2013-05-18</td>\n",
       "      <td>3.273764e+07</td>\n",
       "      <td>107148.0</td>\n",
       "    </tr>\n",
       "  </tbody>\n",
       "</table>\n",
       "</div>"
      ],
      "text/plain": [
       "    date_block_num       date   total_value  total_items\n",
       "32               0 2013-01-25  4.112294e+07     131850.0\n",
       "6                1 2013-02-13  3.810089e+07     128382.0\n",
       "30               2 2013-03-17  4.116525e+07     147438.0\n",
       "10               3 2013-04-14  3.449906e+07     107439.0\n",
       "17               4 2013-05-18  3.273764e+07     107148.0"
      ]
     },
     "execution_count": 74,
     "metadata": {},
     "output_type": "execute_result"
    }
   ],
   "source": [
    "block_sales = block_sales.sort_values(by=\"date_block_num\", ascending=True)\n",
    "block_sales.head()"
   ]
  },
  {
   "cell_type": "code",
   "execution_count": 98,
   "metadata": {},
   "outputs": [
    {
     "data": {
      "image/png": "[encoded data removed]",
      "text/plain": [
       "<Figure size 720x288 with 1 Axes>"
      ]
     },
     "metadata": {
      "needs_background": "light"
     },
     "output_type": "display_data"
    }
   ],
   "source": [
    "plt.figure(figsize=(10,4))\n",
    "\n",
    "plt.title(\"Totals / Block\")\n",
    "\n",
    "x = block_sales[\"date_block_num\"]\n",
    "\n",
    "y1 = block_sales[\"total_value\"] / block_sales[\"total_value\"].max()\n",
    "y2 = block_sales[\"total_items\"] / block_sales[\"total_items\"].max()\n",
    "\n",
    "plt.plot(block_sales[\"date_block_num\"], y1, color='blue')\n",
    "plt.plot(block_sales[\"date_block_num\"], y2, color='red')\n",
    "plt.xticks(np.arange(len(x)), x)\n",
    "\n",
    "plt.show();"
   ]
  },
  {
   "cell_type": "code",
   "execution_count": null,
   "metadata": {},
   "outputs": [],
   "source": []
  }
 ],
 "metadata": {
  "kernelspec": {
   "display_name": "Python 3",
   "language": "python",
   "name": "python3"
  },
  "language_info": {
   "codemirror_mode": {
    "name": "ipython",
    "version": 3
   },
   "file_extension": ".py",
   "mimetype": "text/x-python",
   "name": "python",
   "nbconvert_exporter": "python",
   "pygments_lexer": "ipython3",
   "version": "3.7.1"
  }
 },
 "nbformat": 4,
 "nbformat_minor": 2
}
